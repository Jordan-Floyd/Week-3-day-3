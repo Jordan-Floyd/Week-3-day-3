{
 "cells": [
  {
   "cell_type": "code",
   "execution_count": 12,
   "id": "e0f25261",
   "metadata": {},
   "outputs": [
    {
     "name": "stdout",
     "output_type": "stream",
     "text": [
      "['.', 'sentence', 'a', 'is', 'this']\n"
     ]
    }
   ],
   "source": [
    "# ### Exercise #1 \n",
    "# Reverse the list below in-place using an in-place algorithm. \n",
    "# For extra credit: Reverse the strings at the same time.\n",
    "\n",
    "# In place algorithm / 2 Pointers\n",
    "# Output: ['.', 'sentence', 'a', 'is', 'this']\n",
    "\n",
    "def swapWords(myList, a, b, c, d, e):\n",
    "    myList[a], myList[b], myList[c], myList[d], myList[e] = myList[e], myList[d], myList[c], myList[b], myList[a]\n",
    "\n",
    "words = ['this' , 'is', 'a', 'sentence', '.']\n",
    "\n",
    "swapWords(words, 0, 1, 2, 3, 4)\n",
    "\n",
    "print(words)\n",
    "\n"
   ]
  },
  {
   "cell_type": "code",
   "execution_count": 19,
   "id": "fd111905",
   "metadata": {},
   "outputs": [
    {
     "name": "stdout",
     "output_type": "stream",
     "text": [
      "{'In': 1, 'computing,': 1, 'a': 4, 'hash': 4, 'table': 2, 'map': 2, 'is': 1, 'data': 2, 'structure': 2, 'which': 2, 'implements': 1, 'an': 3, 'associative': 1, 'array': 2, 'abstract': 1, 'type,': 1, 'that': 1, 'can': 2, 'keys': 1, 'to': 2, 'values.A': 1, 'uses': 1, 'function': 1, 'compute': 1, 'index': 1, 'into': 1, 'of': 1, 'buckets': 1, 'or': 1, 'slots': 1, 'from': 1, 'the': 1, 'desired': 1, 'value': 1, 'be': 1, 'found': 1}\n"
     ]
    }
   ],
   "source": [
    "# Exercise #2\n",
    "# Create a function that counts how many distinct words are in the string below, then outputs a dictionary with the words as the key and the value as the amount of times that word appears in the string.\n",
    "# Should output:\n",
    "# {'a': 5,\n",
    "# 'abstract': 1,\n",
    "# 'an': 3,\n",
    "# 'array': 2, ... etc...\n",
    "\n",
    "a_text = 'In computing, a hash table hash map is a data structure which implements an associative array abstract data type, a structure that can map keys to values.A hash table uses a hash function to compute an index into an array of buckets or slots from which the desired value can be found'\n",
    "\n",
    "def wordCounting(str):\n",
    "    counts = dict()\n",
    "    words = str.split()\n",
    "    \n",
    "    for word in words:\n",
    "        if word in counts:\n",
    "            counts[word] += 1\n",
    "        else:\n",
    "            counts[word] = 1\n",
    "            \n",
    "    return counts\n",
    "\n",
    "print(wordCounting(a_text))\n",
    "\n",
    "\n",
    "\n",
    "\n",
    "\n",
    "\n"
   ]
  },
  {
   "cell_type": "code",
   "execution_count": 23,
   "id": "2e01c809",
   "metadata": {},
   "outputs": [
    {
     "name": "stdout",
     "output_type": "stream",
     "text": [
      "5\n"
     ]
    }
   ],
   "source": [
    "# ## Exercise #3\n",
    "\n",
    "# Write a program to implement a Linear Search Algorithm.\n",
    "\n",
    "# #### Hint: Linear Searching will require searching a list for a given number. \n",
    "\n",
    "# Do not need to write the time complexity.\n",
    "\n",
    "\n",
    "myList = [2, 12, 23, 45, 56, 78, 89, 90, 106]\n",
    "\n",
    "\n",
    "def linearFunc(myList, x):\n",
    "    \n",
    "    for i in range(len(myList)):\n",
    "        \n",
    "        if myList[i] == x:\n",
    "            return i\n",
    "        \n",
    "    return -1\n",
    "\n",
    "print(linearFunc(myList, 78))\n",
    "\n",
    "\n",
    "\n",
    "\n",
    "\n",
    "\n",
    "\n",
    "\n",
    "\n"
   ]
  },
  {
   "cell_type": "code",
   "execution_count": null,
   "id": "3025e25c",
   "metadata": {},
   "outputs": [],
   "source": []
  }
 ],
 "metadata": {
  "kernelspec": {
   "display_name": "Python 3",
   "language": "python",
   "name": "python3"
  },
  "language_info": {
   "codemirror_mode": {
    "name": "ipython",
    "version": 3
   },
   "file_extension": ".py",
   "mimetype": "text/x-python",
   "name": "python",
   "nbconvert_exporter": "python",
   "pygments_lexer": "ipython3",
   "version": "3.8.8"
  }
 },
 "nbformat": 4,
 "nbformat_minor": 5
}
