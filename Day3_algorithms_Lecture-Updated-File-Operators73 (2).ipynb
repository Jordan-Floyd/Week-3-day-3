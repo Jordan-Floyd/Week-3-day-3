{
 "cells": [
  {
   "cell_type": "markdown",
   "metadata": {},
   "source": [
    "# Intro to Algorithms, Binary Search"
   ]
  },
  {
   "cell_type": "markdown",
   "metadata": {},
   "source": [
    "## Tasks Today:\n",
    " \n",
    "1) <b>In-Place Algorithms</b> <br>\n",
    " &nbsp;&nbsp;&nbsp;&nbsp; a) Syntax <br>\n",
    " &nbsp;&nbsp;&nbsp;&nbsp; a) Out of Place Algorithm <br>\n",
    " &nbsp;&nbsp;&nbsp;&nbsp; b) In-Class Exercise #1 <br>\n",
    "2) <b>Two Pointers</b> <br>\n",
    "3) <b>Linked Lists</b> <br>\n",
    "4) <b>Sorting Algorithms</b> <br>\n",
    " &nbsp;&nbsp;&nbsp;&nbsp; a) Videos on Algorithms (Watch later) <br>\n",
    " &nbsp;&nbsp;&nbsp;&nbsp; b) Bubble Sort <br>\n",
    " &nbsp;&nbsp;&nbsp;&nbsp; c) Insertion Sort <br>\n",
    " &nbsp;&nbsp;&nbsp;&nbsp; d) Merge Sort <br>\n",
    "5) <b>Binary Search Algorithm</b> <br>\n",
    "6) <b>Exercises</b> <br>\n",
    " &nbsp;&nbsp;&nbsp;&nbsp; a) Exercise #1 - Reverse a List in Place Using an In-Place Algorithm <br>\n",
    " &nbsp;&nbsp;&nbsp;&nbsp; b) Exercise #2 - Find Distinct Words <br>\n",
    " &nbsp;&nbsp;&nbsp;&nbsp; c) Exercise #3 - Write a program to implement a Linear Search Algorithm. <br>"
   ]
  },
  {
   "cell_type": "markdown",
   "metadata": {},
   "source": [
    "## In-Place Algorithms"
   ]
  },
  {
   "cell_type": "markdown",
   "metadata": {},
   "source": [
    "#### Syntax"
   ]
  },
  {
   "cell_type": "code",
   "execution_count": 2,
   "metadata": {},
   "outputs": [
    {
     "name": "stdout",
     "output_type": "stream",
     "text": [
      "Before Swap: [20, 30, 40]\n",
      "After Swap: [40, 30, 20]\n"
     ]
    }
   ],
   "source": [
    "# Syntax for swap.\n",
    "# Variable [i], var[i+1] = var[i+1], var[i]\n",
    "# Sometimes known as the swap algorithm.. usually part of a larger sorting algorithm.\n",
    "\n",
    "\n",
    "def swap(alist, x, y, z):\n",
    "    alist[x], alist[y], alist[z] = alist[z], alist[y], alist[x]\n",
    "    return alist\n",
    "\n",
    "myList = [20, 30, 40]\n",
    "print(f'Before Swap: {myList}')\n",
    "\n",
    "swap(myList, 0, 1, 2)\n",
    "print(f'After Swap: {myList}')"
   ]
  },
  {
   "cell_type": "markdown",
   "metadata": {},
   "source": [
    "#### Out of Place Algorithm"
   ]
  },
  {
   "cell_type": "code",
   "execution_count": 7,
   "metadata": {},
   "outputs": [
    {
     "name": "stdout",
     "output_type": "stream",
     "text": [
      "[40, 30, 20]\n",
      "[20, 30, 40]\n",
      "['d']\n",
      "['d', 'c']\n",
      "['d', 'c', 'b']\n",
      "['d', 'c', 'b', 'a']\n"
     ]
    }
   ],
   "source": [
    "# Not swapping but making an entirely new copy and reversing completely.\n",
    "# Takes up a new slot in memory for a new list.\n",
    "\n",
    "myList = [20, 30, 40]\n",
    "my_list_copy = myList[::-1]\n",
    "print(my_list_copy)\n",
    "print(myList)\n",
    "\n",
    "# Here is what is happening in the background of myList[::-1]\n",
    "\n",
    "list_2 = ['a', 'b', 'c', 'd']\n",
    "length = len(list_2)\n",
    "\n",
    "rev_l2 = []\n",
    "\n",
    "for i in range(1,len(list_2)+1):\n",
    "    rev_l2.append(list_2[len(list_2)-i])\n",
    "    print(rev_l2)"
   ]
  },
  {
   "cell_type": "markdown",
   "metadata": {},
   "source": [
    "#### In-Class Exercise #1 <br>\n",
    "<p>Write a function that takes in four arguments (list, index1, index2, index3), and swaps those three positions in the list passed in.</p>"
   ]
  },
  {
   "cell_type": "code",
   "execution_count": 13,
   "metadata": {},
   "outputs": [
    {
     "data": {
      "text/plain": [
       "[3, 4, 10, 8, 4, 2, 6]"
      ]
     },
     "execution_count": 13,
     "metadata": {},
     "output_type": "execute_result"
    }
   ],
   "source": [
    "\n",
    "\n",
    "\n",
    "def swapList(list, a, b, c):\n",
    "    list[a], list[b], list[c] = list[c], list[b], list[a]\n",
    "    return list\n",
    "\n",
    "l_1 = [10, 4, 3, 8, 4, 2, 6]\n",
    "\n",
    "swapList(l_1, 0, 1, 2#)\n",
    "\n",
    "    \n",
    "\n",
    "\n",
    "\n",
    "\n"
   ]
  },
  {
   "cell_type": "markdown",
   "metadata": {},
   "source": [
    "## Two Pointers"
   ]
  },
  {
   "cell_type": "markdown",
   "metadata": {},
   "source": [
    "#### Syntax"
   ]
  },
  {
   "cell_type": "code",
   "execution_count": 19,
   "metadata": {},
   "outputs": [
    {
     "data": {
      "text/plain": [
       "[5, 4, 3, 2, 1]"
      ]
     },
     "execution_count": 19,
     "metadata": {},
     "output_type": "execute_result"
    }
   ],
   "source": [
    "# alist[left], alist[right] = alist[right], alist[left]\n",
    "# Most of the time 2 pointers are going to be inside of a while loop if you are swapping items.\n",
    "\n",
    "def twoPointers(alist):\n",
    "    \n",
    "    # Create 2 pointers (beginning and end in this case)\n",
    "    left = 0\n",
    "    right = len(alist) -1\n",
    "    \n",
    "    # Start looping until there are no longer positions to swap.\n",
    "    while left <= right:\n",
    "        \n",
    "        # Swap the left and right positions to reverse\n",
    "        alist[left], alist[right] = alist[right], alist[left]\n",
    "        \n",
    "        # Increase left and decrease right to find the next positions to swap\n",
    "        left += 1\n",
    "        right -= 1\n",
    "    return alist\n",
    "    \n",
    "twoPointers([1,2,3,4,5])"
   ]
  },
  {
   "cell_type": "markdown",
   "metadata": {},
   "source": [
    "#### Video of Algorithms <br>\n",
    "<p>Watch the video about algorithms.</p>\n",
    "\n",
    "https://www.youtube.com/watch?v=Q9HjeFD62Uk\n",
    "\n",
    "https://www.youtube.com/watch?v=kPRA0W1kECg\n",
    "\n",
    "https://www.youtube.com/watch?v=ZZuD6iUe3Pc"
   ]
  },
  {
   "cell_type": "markdown",
   "metadata": {},
   "source": [
    "# Sorting Algorithms"
   ]
  },
  {
   "cell_type": "markdown",
   "metadata": {},
   "source": [
    "#### Bubble Sort\n",
    "\n",
    "Worst Case: O(n^2) Time - O(1) Space"
   ]
  },
  {
   "cell_type": "code",
   "execution_count": 23,
   "metadata": {},
   "outputs": [
    {
     "data": {
      "text/plain": [
       "[2, 3, 10, 11, 18, 20, 21, 25]"
      ]
     },
     "execution_count": 23,
     "metadata": {},
     "output_type": "execute_result"
    }
   ],
   "source": [
    "# Steps:\n",
    "# Iterate over a list, compare each item to the item next to it.\n",
    "# If value on the left is greater than > value on the right -swap those values.\n",
    "# Keep going through the list until we make a full loop with no swaps.\n",
    "\n",
    "def swap(i,j,array):\n",
    "    array[i], array[j] = array[j], array[i]\n",
    "    \n",
    "def bubbleSort(array):\n",
    "    is_sorted = False\n",
    "    while not is_sorted:\n",
    "        is_sorted = True\n",
    "        for i in range(len(array)-1):\n",
    "            if array[i] > array[i+1]:\n",
    "                swap(i, i+1, array)\n",
    "                is_sorted = False\n",
    "                \n",
    "    return array\n",
    "\n",
    "bubbleSort([20, 25, 21, 18, 2, 3, 10, 11])\n",
    "        \n",
    " "
   ]
  },
  {
   "cell_type": "markdown",
   "metadata": {},
   "source": [
    "##### Insertion Sort\n",
    "\n",
    "Worst Case: O(n^2) time - O(1)space"
   ]
  },
  {
   "cell_type": "code",
   "execution_count": 25,
   "metadata": {},
   "outputs": [
    {
     "data": {
      "text/plain": [
       "[1, 2, 21, 23, 45, 54, 87]"
      ]
     },
     "execution_count": 25,
     "metadata": {},
     "output_type": "execute_result"
    }
   ],
   "source": [
    "# Steps \n",
    "# Look at the value at each index.\n",
    "# Compare that item to every value at the left\n",
    "# - then move the item until you reach number comparison that is already in correct order.\n",
    "# Do this for every value - index 1 - final index.\n",
    "\n",
    "def swap(i,j,array):\n",
    "    array[i], array[j] = array[j], array[i]\n",
    "    \n",
    "def insertionSort(array):\n",
    "    for i in range(1,len(array)):\n",
    "        j = i\n",
    "        while j > 0 and array[j] < array[j-1]:\n",
    "            swap(j, j-1, array)\n",
    "            j -= 1\n",
    "    return array\n",
    "\n",
    "insertionSort([1,45,23,21,2,87,54])\n",
    "    \n",
    "    \n",
    "    "
   ]
  },
  {
   "cell_type": "markdown",
   "metadata": {},
   "source": [
    "## Merge Sort"
   ]
  },
  {
   "cell_type": "markdown",
   "metadata": {},
   "source": [
    "#### How it Works"
   ]
  },
  {
   "cell_type": "code",
   "execution_count": 32,
   "metadata": {},
   "outputs": [
    {
     "name": "stdout",
     "output_type": "stream",
     "text": [
      "Splitting..  [11, 10, 4, 10, 1]\n",
      "Splitting..  [11, 10]\n",
      "Splitting..  [11]\n",
      "Merging:  [11]\n",
      "Splitting..  [10]\n",
      "Merging:  [10]\n",
      "Merging:  [10, 11]\n",
      "Splitting..  [4, 10, 1]\n",
      "Splitting..  [4]\n",
      "Merging:  [4]\n",
      "Splitting..  [10, 1]\n",
      "Splitting..  [10]\n",
      "Merging:  [10]\n",
      "Splitting..  [1]\n",
      "Merging:  [1]\n",
      "Merging:  [1, 10]\n",
      "Merging:  [1, 4, 10]\n",
      "Merging:  [1, 4, 10, 10, 11]\n"
     ]
    },
    {
     "data": {
      "text/plain": [
       "[1, 4, 10, 10, 11]"
      ]
     },
     "execution_count": 32,
     "metadata": {},
     "output_type": "execute_result"
    }
   ],
   "source": [
    "# Step 1: Split everything into its own group.\n",
    "# Step 2: From left to right, merge 2 equal sections together.\n",
    "# Step 3: While merging, place each item in the correct position within the merged group.\n",
    "# Step 4: Continue steps 3 and 4 until one group is left.\n",
    "\n",
    "# Creating a random list.\n",
    "from random import randint\n",
    "nums = [randint(0,20) for i in range(5)]\n",
    "\n",
    "\n",
    "# Merge sort below.\n",
    "def mergeSort(array):\n",
    "    print('Splitting.. ', array)\n",
    "    \n",
    "    \n",
    "    # Step 1: Divide the array into equal parts (as much as possible).\n",
    "    if len(array) > 1:\n",
    "        mid = len(array) // 2\n",
    "        lefthalf = array[:mid]\n",
    "        righthalf = array[mid:]\n",
    "        \n",
    "        \n",
    "        # Recursively call mergeSort to perform splits if needed.\n",
    "        # Merge once all splits are made.\n",
    "        mergeSort(lefthalf)\n",
    "        mergeSort(righthalf)\n",
    "        \n",
    "        \n",
    "        # Index pointers for our halves.\n",
    "        i = 0 # pointer for left half.\n",
    "        j = 0 # pointer for left half.\n",
    "        k = 0 # pointer for main array(merged array).\n",
    "        \n",
    "        \n",
    "        \n",
    "        # Step 2: Compare the left and right half.\n",
    "        while i < len(lefthalf) and j < len(righthalf):\n",
    "            if lefthalf[i] < righthalf[j]:\n",
    "                array[k] = lefthalf[i]\n",
    "                i += 1\n",
    "            else:\n",
    "                array[k] = righthalf[j]\n",
    "                j += 1\n",
    "            k += 1\n",
    "        \n",
    "        \n",
    "        \n",
    "        # Step 3: While merging  place items into correct position.\n",
    "        while i < len(lefthalf):\n",
    "            array[k] = lefthalf[i]\n",
    "            i += 1\n",
    "            k += 1\n",
    "        while j < len(righthalf):\n",
    "            array[k] = righthalf[j]\n",
    "            j += 1\n",
    "            k += 1\n",
    "            \n",
    "            \n",
    "    print('Merging: ', array)\n",
    "        \n",
    "    return array\n",
    "\n",
    "mergeSort(nums)\n",
    "            \n",
    "            "
   ]
  },
  {
   "cell_type": "markdown",
   "metadata": {},
   "source": [
    "# Binary Search\n",
    "\n",
    "The Binary Search algorithm works by finding the number in the middle of a given array and comparing it to the target. Given that the array is sorted\n",
    "\n",
    "* The worst case run time for this algorithm is `O(log(n))`"
   ]
  },
  {
   "cell_type": "code",
   "execution_count": 37,
   "metadata": {},
   "outputs": [
    {
     "data": {
      "text/plain": [
       "' Congrats! You found target 609 at index 10'"
      ]
     },
     "execution_count": 37,
     "metadata": {},
     "output_type": "execute_result"
    }
   ],
   "source": [
    "# Steps \n",
    "# Establish 2 pointers - left and right\n",
    "# Find a midpoint between left/right\n",
    "# Check the target value vs the midpoint\n",
    "# Adjust pointers to narrow in on our target\n",
    "# Continue the process until wer find our target or complete searching\n",
    "\n",
    "def binarySearch(array, target):\n",
    "    # Step 1: Establish pointers.\n",
    "    left = 0\n",
    "    right = len(array) - 1\n",
    "    \n",
    "    # Step 2: Start looping and est. new midpoint until we find or do not find target.\n",
    "    while left <= right:\n",
    "        mid = (left + right) // 2\n",
    "        possibleMatch = array[mid]\n",
    "        \n",
    "        # Adjust pointers based on comparison between target and midpoint.\n",
    "        if target == possibleMatch:\n",
    "            return f' Congrats! You found target {target} at index {mid}'\n",
    "        elif target < possibleMatch:\n",
    "            right = mid - 1\n",
    "        else:\n",
    "            left = mid + 1\n",
    "    return f'Sorry the target of {target} does not exist here!'\n",
    "\n",
    "someList = [1, 2, 5, 24, 45, 78, 97, 180, 259, 487, 609, 1023]\n",
    "\n",
    "binarySearch(someList, 609)\n",
    "    "
   ]
  },
  {
   "cell_type": "markdown",
   "metadata": {},
   "source": [
    "# Exercises"
   ]
  },
  {
   "cell_type": "markdown",
   "metadata": {},
   "source": [
    "### Exercise #1 <br>\n",
    "<p>Reverse the list below in-place using an in-place algorithm.<br>For extra credit: Reverse the strings at the same time.</p>"
   ]
  },
  {
   "cell_type": "code",
   "execution_count": null,
   "metadata": {},
   "outputs": [],
   "source": [
    "# In place algorithm / 2 Pointers\n",
    "# Output: ['.', 'sentence', 'a', 'is', 'this']\n",
    "words = ['this' , 'is', 'a', 'sentence', '.']\n"
   ]
  },
  {
   "cell_type": "markdown",
   "metadata": {},
   "source": [
    "### Exercise #2 <br>\n",
    "<p>Create a function that counts how many distinct words are in the string below, then outputs a dictionary with the words as the key and the value as the amount of times that word appears in the string.<br>Should output:<br>{'a': 5,<br>\n",
    " 'abstract': 1,<br>\n",
    " 'an': 3,<br>\n",
    " 'array': 2, ... etc...</p>"
   ]
  },
  {
   "cell_type": "code",
   "execution_count": null,
   "metadata": {},
   "outputs": [],
   "source": [
    "# count length of range len(range(a_text))... MAYBE.\n",
    "a_text = 'In computing, a hash table hash map is a data structure which implements an associative array abstract data type, a structure that can map keys to values. A hash table uses a hash function to compute an index into an array of buckets or slots from which the desired value can be found'\n",
    "\n"
   ]
  },
  {
   "cell_type": "markdown",
   "metadata": {},
   "source": [
    "## Exercise #3\n",
    "\n",
    "Write a program to implement a Linear Search Algorithm. Also in a comment, write the Time Complexity of the following algorithm.\n",
    "\n",
    "#### Hint: Linear Searching will require searching a list for a given number. "
   ]
  },
  {
   "cell_type": "code",
   "execution_count": 38,
   "metadata": {},
   "outputs": [],
   "source": [
    "\n",
    "\n",
    "# Do not need to write the time complexity."
   ]
  }
 ],
 "metadata": {
  "kernelspec": {
   "display_name": "Python 3",
   "language": "python",
   "name": "python3"
  },
  "language_info": {
   "codemirror_mode": {
    "name": "ipython",
    "version": 3
   },
   "file_extension": ".py",
   "mimetype": "text/x-python",
   "name": "python",
   "nbconvert_exporter": "python",
   "pygments_lexer": "ipython3",
   "version": "3.8.8"
  }
 },
 "nbformat": 4,
 "nbformat_minor": 2
}
